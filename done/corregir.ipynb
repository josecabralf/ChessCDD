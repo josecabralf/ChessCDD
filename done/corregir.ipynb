{
 "cells": [
  {
   "cell_type": "code",
   "execution_count": 1,
   "metadata": {},
   "outputs": [],
   "source": [
    "import pandas as pd\n",
    "\n",
    "\n",
    "df = pd.read_csv('./Data/merged.csv')"
   ]
  },
  {
   "cell_type": "code",
   "execution_count": 2,
   "metadata": {},
   "outputs": [
    {
     "data": {
      "text/plain": [
       "array(['Rated Rapid', 'Rated Blitz', 'Rated Bullet', 'Rated Classical',\n",
       "       'Rated UltraBullet', 'Rated Correspondence'], dtype=object)"
      ]
     },
     "execution_count": 2,
     "metadata": {},
     "output_type": "execute_result"
    }
   ],
   "source": [
    "def obtenerVariant(name):\n",
    "  v = name.split()\n",
    "  return f\"{v[0]} {v[1]}\"\n",
    "\n",
    "df.loc[:, \"variant\"] = df.loc[:, \"event\"]\n",
    "df.loc[:, 'variant'] = df.loc[:, 'variant'].apply(lambda name: obtenerVariant(name))\n",
    "df[\"variant\"].unique()"
   ]
  },
  {
   "cell_type": "code",
   "execution_count": 3,
   "metadata": {},
   "outputs": [
    {
     "data": {
      "text/plain": [
       "array(['tournament', 'game'], dtype=object)"
      ]
     },
     "execution_count": 3,
     "metadata": {},
     "output_type": "execute_result"
    }
   ],
   "source": [
    "def obtenerEvent(name):\n",
    "  e = name.split()\n",
    "  return f\"{e[2]}\"\n",
    "\n",
    "df.loc[:, 'event'] = df.loc[:, 'event'].apply(lambda name: obtenerEvent(name))\n",
    "df[\"event\"].unique()"
   ]
  },
  {
   "cell_type": "code",
   "execution_count": 4,
   "metadata": {},
   "outputs": [],
   "source": [
    "df.to_csv(\"./Data/chess.csv\", index=False)"
   ]
  }
 ],
 "metadata": {
  "kernelspec": {
   "display_name": "Python 3",
   "language": "python",
   "name": "python3"
  },
  "language_info": {
   "codemirror_mode": {
    "name": "ipython",
    "version": 3
   },
   "file_extension": ".py",
   "mimetype": "text/x-python",
   "name": "python",
   "nbconvert_exporter": "python",
   "pygments_lexer": "ipython3",
   "version": "3.10.4"
  },
  "orig_nbformat": 4
 },
 "nbformat": 4,
 "nbformat_minor": 2
}
