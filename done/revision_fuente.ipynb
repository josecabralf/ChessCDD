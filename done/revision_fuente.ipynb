{
 "cells": [
  {
   "cell_type": "markdown",
   "metadata": {},
   "source": [
    "Lo primero que vamos a hacer va a ser cargar el archivo CSV a un objeto DataFrame con Pandas. Una vez cargada, vamos a darle a su vez un vistazo inicial, para saber qué contiene. Al usar escribir \"df\" sin más, la jupyter notebook nos mostrará una vista truncada del DataFrame, y también nos indicará su size."
   ]
  },
  {
   "cell_type": "code",
   "execution_count": 3,
   "metadata": {},
   "outputs": [
    {
     "data": {
      "text/html": [
       "<div>\n",
       "<style scoped>\n",
       "    .dataframe tbody tr th:only-of-type {\n",
       "        vertical-align: middle;\n",
       "    }\n",
       "\n",
       "    .dataframe tbody tr th {\n",
       "        vertical-align: top;\n",
       "    }\n",
       "\n",
       "    .dataframe thead th {\n",
       "        text-align: right;\n",
       "    }\n",
       "</style>\n",
       "<table border=\"1\" class=\"dataframe\">\n",
       "  <thead>\n",
       "    <tr style=\"text-align: right;\">\n",
       "      <th></th>\n",
       "      <th>game_id</th>\n",
       "      <th>game_order</th>\n",
       "      <th>event</th>\n",
       "      <th>site</th>\n",
       "      <th>date_played</th>\n",
       "      <th>round</th>\n",
       "      <th>white</th>\n",
       "      <th>black</th>\n",
       "      <th>result</th>\n",
       "      <th>white_elo</th>\n",
       "      <th>...</th>\n",
       "      <th>loser_elo</th>\n",
       "      <th>winner_loser_elo_diff</th>\n",
       "      <th>eco</th>\n",
       "      <th>termination</th>\n",
       "      <th>time_control</th>\n",
       "      <th>utc_date</th>\n",
       "      <th>utc_time</th>\n",
       "      <th>variant</th>\n",
       "      <th>ply_count</th>\n",
       "      <th>move_no_pair</th>\n",
       "    </tr>\n",
       "  </thead>\n",
       "  <tbody>\n",
       "    <tr>\n",
       "      <th>0</th>\n",
       "      <td>2d39c0ad-11c1-45f9-b708-081a6cfd91a1</td>\n",
       "      <td>1</td>\n",
       "      <td>tournament</td>\n",
       "      <td>https://lichess.org/RwcXFF0S</td>\n",
       "      <td>2020.02.01</td>\n",
       "      <td>-</td>\n",
       "      <td>DoIhave2</td>\n",
       "      <td>unclJ</td>\n",
       "      <td>0-1</td>\n",
       "      <td>1696</td>\n",
       "      <td>...</td>\n",
       "      <td>1696.0</td>\n",
       "      <td>0</td>\n",
       "      <td>C00</td>\n",
       "      <td>Normal</td>\n",
       "      <td>600+0</td>\n",
       "      <td>2020.02.01</td>\n",
       "      <td>00:00:07</td>\n",
       "      <td>Rated Rapid</td>\n",
       "      <td>118.0</td>\n",
       "      <td>59.0</td>\n",
       "    </tr>\n",
       "    <tr>\n",
       "      <th>1</th>\n",
       "      <td>604dc0ba-e45d-4586-86d2-7d6ba32b74f4</td>\n",
       "      <td>2</td>\n",
       "      <td>tournament</td>\n",
       "      <td>https://lichess.org/SR0TkWAr</td>\n",
       "      <td>2020.02.01</td>\n",
       "      <td>-</td>\n",
       "      <td>Ice29</td>\n",
       "      <td>marcfd</td>\n",
       "      <td>1-0</td>\n",
       "      <td>1839</td>\n",
       "      <td>...</td>\n",
       "      <td>1630.0</td>\n",
       "      <td>209</td>\n",
       "      <td>C80</td>\n",
       "      <td>Normal</td>\n",
       "      <td>300+0</td>\n",
       "      <td>2020.02.01</td>\n",
       "      <td>00:00:07</td>\n",
       "      <td>Rated Blitz</td>\n",
       "      <td>25.0</td>\n",
       "      <td>13.0</td>\n",
       "    </tr>\n",
       "    <tr>\n",
       "      <th>2</th>\n",
       "      <td>82d8daaa-6abe-4e16-9c8a-f233ccd2f1c4</td>\n",
       "      <td>3</td>\n",
       "      <td>tournament</td>\n",
       "      <td>https://lichess.org/Dypqb5kl</td>\n",
       "      <td>2020.02.01</td>\n",
       "      <td>-</td>\n",
       "      <td>SpaceJockey</td>\n",
       "      <td>Ahmedusama212</td>\n",
       "      <td>1-0</td>\n",
       "      <td>1982</td>\n",
       "      <td>...</td>\n",
       "      <td>2080.0</td>\n",
       "      <td>-98</td>\n",
       "      <td>D00</td>\n",
       "      <td>Normal</td>\n",
       "      <td>180+0</td>\n",
       "      <td>2020.02.01</td>\n",
       "      <td>00:00:07</td>\n",
       "      <td>Rated Blitz</td>\n",
       "      <td>55.0</td>\n",
       "      <td>28.0</td>\n",
       "    </tr>\n",
       "    <tr>\n",
       "      <th>3</th>\n",
       "      <td>1b51f77a-4cd4-45db-85d4-3d22a3546c80</td>\n",
       "      <td>4</td>\n",
       "      <td>tournament</td>\n",
       "      <td>https://lichess.org/OfGWHoFV</td>\n",
       "      <td>2020.02.01</td>\n",
       "      <td>-</td>\n",
       "      <td>Macskajanos</td>\n",
       "      <td>capperuccio</td>\n",
       "      <td>1-0</td>\n",
       "      <td>2088</td>\n",
       "      <td>...</td>\n",
       "      <td>2096.0</td>\n",
       "      <td>-8</td>\n",
       "      <td>A40</td>\n",
       "      <td>Normal</td>\n",
       "      <td>180+0</td>\n",
       "      <td>2020.02.01</td>\n",
       "      <td>00:00:07</td>\n",
       "      <td>Rated Blitz</td>\n",
       "      <td>107.0</td>\n",
       "      <td>54.0</td>\n",
       "    </tr>\n",
       "    <tr>\n",
       "      <th>4</th>\n",
       "      <td>dc1e79c7-ed74-4d27-a389-859114aad0d2</td>\n",
       "      <td>5</td>\n",
       "      <td>game</td>\n",
       "      <td>https://lichess.org/ug8AEXKd</td>\n",
       "      <td>2020.02.01</td>\n",
       "      <td>-</td>\n",
       "      <td>Gregory_Moscow</td>\n",
       "      <td>Ealamn</td>\n",
       "      <td>0-1</td>\n",
       "      <td>1720</td>\n",
       "      <td>...</td>\n",
       "      <td>1720.0</td>\n",
       "      <td>2</td>\n",
       "      <td>C20</td>\n",
       "      <td>Normal</td>\n",
       "      <td>180+0</td>\n",
       "      <td>2020.02.01</td>\n",
       "      <td>00:00:07</td>\n",
       "      <td>Rated Blitz</td>\n",
       "      <td>98.0</td>\n",
       "      <td>49.0</td>\n",
       "    </tr>\n",
       "  </tbody>\n",
       "</table>\n",
       "<p>5 rows × 28 columns</p>\n",
       "</div>"
      ],
      "text/plain": [
       "                                game_id  game_order       event  \\\n",
       "0  2d39c0ad-11c1-45f9-b708-081a6cfd91a1           1  tournament   \n",
       "1  604dc0ba-e45d-4586-86d2-7d6ba32b74f4           2  tournament   \n",
       "2  82d8daaa-6abe-4e16-9c8a-f233ccd2f1c4           3  tournament   \n",
       "3  1b51f77a-4cd4-45db-85d4-3d22a3546c80           4  tournament   \n",
       "4  dc1e79c7-ed74-4d27-a389-859114aad0d2           5        game   \n",
       "\n",
       "                           site date_played round           white  \\\n",
       "0  https://lichess.org/RwcXFF0S  2020.02.01     -        DoIhave2   \n",
       "1  https://lichess.org/SR0TkWAr  2020.02.01     -           Ice29   \n",
       "2  https://lichess.org/Dypqb5kl  2020.02.01     -     SpaceJockey   \n",
       "3  https://lichess.org/OfGWHoFV  2020.02.01     -     Macskajanos   \n",
       "4  https://lichess.org/ug8AEXKd  2020.02.01     -  Gregory_Moscow   \n",
       "\n",
       "           black result  white_elo  ...  loser_elo  winner_loser_elo_diff  \\\n",
       "0          unclJ    0-1       1696  ...     1696.0                      0   \n",
       "1         marcfd    1-0       1839  ...     1630.0                    209   \n",
       "2  Ahmedusama212    1-0       1982  ...     2080.0                    -98   \n",
       "3    capperuccio    1-0       2088  ...     2096.0                     -8   \n",
       "4         Ealamn    0-1       1720  ...     1720.0                      2   \n",
       "\n",
       "   eco termination time_control    utc_date  utc_time      variant  ply_count  \\\n",
       "0  C00      Normal        600+0  2020.02.01  00:00:07  Rated Rapid      118.0   \n",
       "1  C80      Normal        300+0  2020.02.01  00:00:07  Rated Blitz       25.0   \n",
       "2  D00      Normal        180+0  2020.02.01  00:00:07  Rated Blitz       55.0   \n",
       "3  A40      Normal        180+0  2020.02.01  00:00:07  Rated Blitz      107.0   \n",
       "4  C20      Normal        180+0  2020.02.01  00:00:07  Rated Blitz       98.0   \n",
       "\n",
       "   move_no_pair  \n",
       "0          59.0  \n",
       "1          13.0  \n",
       "2          28.0  \n",
       "3          54.0  \n",
       "4          49.0  \n",
       "\n",
       "[5 rows x 28 columns]"
      ]
     },
     "execution_count": 3,
     "metadata": {},
     "output_type": "execute_result"
    }
   ],
   "source": [
    "import pandas as pd\n",
    "\n",
    "\n",
    "df = pd.read_csv('../Data/chess.csv')\n",
    "df.head(5)"
   ]
  },
  {
   "cell_type": "markdown",
   "metadata": {},
   "source": [
    "Como se ve en la tabla, hay 1,502,870 filas de datos y 28 columnas.\n",
    "\n",
    "Ahora que ya vimos el dataframe, vamos a analizar sus tipos de datos:"
   ]
  },
  {
   "cell_type": "code",
   "execution_count": 4,
   "metadata": {},
   "outputs": [
    {
     "data": {
      "text/plain": [
       "game_id                   object\n",
       "game_order                 int64\n",
       "event                     object\n",
       "site                      object\n",
       "date_played               object\n",
       "round                     object\n",
       "white                     object\n",
       "black                     object\n",
       "result                    object\n",
       "white_elo                  int64\n",
       "white_rating_diff        float64\n",
       "black_elo                  int64\n",
       "black_rating_diff        float64\n",
       "white_title               object\n",
       "black_title               object\n",
       "winner                    object\n",
       "winner_elo               float64\n",
       "loser                     object\n",
       "loser_elo                float64\n",
       "winner_loser_elo_diff      int64\n",
       "eco                       object\n",
       "termination               object\n",
       "time_control              object\n",
       "utc_date                  object\n",
       "utc_time                  object\n",
       "variant                   object\n",
       "ply_count                float64\n",
       "move_no_pair             float64\n",
       "dtype: object"
      ]
     },
     "execution_count": 4,
     "metadata": {},
     "output_type": "execute_result"
    }
   ],
   "source": [
    "df.dtypes"
   ]
  },
  {
   "cell_type": "markdown",
   "metadata": {},
   "source": [
    "Ahora nos vamos a detener un momento a ver que valores distintos tienen las columnas object, y que no son tan obvias como \"date_played\", para respondernos: cuáles expresan categorías? Para esto vamos a hacer uso de la función unique() con cada columna object y ver que nos retorna."
   ]
  },
  {
   "cell_type": "code",
   "execution_count": 5,
   "metadata": {},
   "outputs": [
    {
     "data": {
      "text/plain": [
       "['game', 'tournament']"
      ]
     },
     "execution_count": 5,
     "metadata": {},
     "output_type": "execute_result"
    }
   ],
   "source": [
    "sorted(df['event'].unique())"
   ]
  },
  {
   "cell_type": "markdown",
   "metadata": {},
   "source": [
    "Vemos que \"event\" contiene el tipo de evento en que la partida fue jugada: tournament (torneo) o  game (partida individual)"
   ]
  },
  {
   "cell_type": "code",
   "execution_count": 6,
   "metadata": {},
   "outputs": [
    {
     "data": {
      "text/plain": [
       "array(['https://lichess.org/RwcXFF0S', 'https://lichess.org/SR0TkWAr',\n",
       "       'https://lichess.org/Dypqb5kl', ...,\n",
       "       'https://lichess.org/KmuREc58', 'https://lichess.org/IXHwoPEq',\n",
       "       'https://lichess.org/U5tBbdRo'], dtype=object)"
      ]
     },
     "execution_count": 6,
     "metadata": {},
     "output_type": "execute_result"
    }
   ],
   "source": [
    "df['site'].unique()"
   ]
  },
  {
   "cell_type": "markdown",
   "metadata": {},
   "source": [
    "Vemos que \"site\" contiene los links a la partida. Por ende, no es una categoría."
   ]
  },
  {
   "cell_type": "code",
   "execution_count": 7,
   "metadata": {},
   "outputs": [
    {
     "data": {
      "text/plain": [
       "array(['-'], dtype=object)"
      ]
     },
     "execution_count": 7,
     "metadata": {},
     "output_type": "execute_result"
    }
   ],
   "source": [
    "df[\"round\"].unique()"
   ]
  },
  {
   "cell_type": "markdown",
   "metadata": {},
   "source": [
    "Vemos que round en realidad es una columna vacía que no ayudará en nuestro análisis. Por ello, se lo reemplazará por nulo."
   ]
  },
  {
   "cell_type": "code",
   "execution_count": 8,
   "metadata": {},
   "outputs": [],
   "source": [
    "import numpy as np\n",
    "df.loc[:, \"round\"].replace({\"-\": np.nan}, inplace=True)"
   ]
  },
  {
   "cell_type": "code",
   "execution_count": 9,
   "metadata": {},
   "outputs": [
    {
     "data": {
      "text/plain": [
       "array(['DoIhave2', 'Ice29', 'SpaceJockey', ..., 'big_h0ss', 'Mechanico',\n",
       "       'Iceman10'], dtype=object)"
      ]
     },
     "execution_count": 9,
     "metadata": {},
     "output_type": "execute_result"
    }
   ],
   "source": [
    "df[\"white\"].unique()"
   ]
  },
  {
   "cell_type": "markdown",
   "metadata": {},
   "source": [
    "Vemos que white posee nombres de jugadores y, podemos suponer así, que la columna black también tendrá lo mismo."
   ]
  },
  {
   "cell_type": "code",
   "execution_count": 10,
   "metadata": {},
   "outputs": [
    {
     "data": {
      "text/plain": [
       "array(['0-1', '1-0', '1/2-1/2', '*'], dtype=object)"
      ]
     },
     "execution_count": 10,
     "metadata": {},
     "output_type": "execute_result"
    }
   ],
   "source": [
    "df[\"result\"].unique()"
   ]
  },
  {
   "cell_type": "markdown",
   "metadata": {},
   "source": [
    "Aqui nos encontramos con una categoría. Habría que ver qué significa el * para lo que vamos a usar la funcionalidad \"loc\" del objeto DataFrame para filtrar aquellas que tienen result == *"
   ]
  },
  {
   "cell_type": "code",
   "execution_count": 11,
   "metadata": {},
   "outputs": [
    {
     "data": {
      "text/html": [
       "<div>\n",
       "<style scoped>\n",
       "    .dataframe tbody tr th:only-of-type {\n",
       "        vertical-align: middle;\n",
       "    }\n",
       "\n",
       "    .dataframe tbody tr th {\n",
       "        vertical-align: top;\n",
       "    }\n",
       "\n",
       "    .dataframe thead th {\n",
       "        text-align: right;\n",
       "    }\n",
       "</style>\n",
       "<table border=\"1\" class=\"dataframe\">\n",
       "  <thead>\n",
       "    <tr style=\"text-align: right;\">\n",
       "      <th></th>\n",
       "      <th>game_id</th>\n",
       "      <th>game_order</th>\n",
       "      <th>event</th>\n",
       "      <th>site</th>\n",
       "      <th>date_played</th>\n",
       "      <th>round</th>\n",
       "      <th>white</th>\n",
       "      <th>black</th>\n",
       "      <th>result</th>\n",
       "      <th>white_elo</th>\n",
       "      <th>...</th>\n",
       "      <th>loser_elo</th>\n",
       "      <th>winner_loser_elo_diff</th>\n",
       "      <th>eco</th>\n",
       "      <th>termination</th>\n",
       "      <th>time_control</th>\n",
       "      <th>utc_date</th>\n",
       "      <th>utc_time</th>\n",
       "      <th>variant</th>\n",
       "      <th>ply_count</th>\n",
       "      <th>move_no_pair</th>\n",
       "    </tr>\n",
       "  </thead>\n",
       "  <tbody>\n",
       "    <tr>\n",
       "      <th>32523</th>\n",
       "      <td>bb46b061-6822-43e7-a3ce-cca70e042824</td>\n",
       "      <td>262</td>\n",
       "      <td>game</td>\n",
       "      <td>https://lichess.org/xKeU5YXU</td>\n",
       "      <td>2020.02.01</td>\n",
       "      <td>NaN</td>\n",
       "      <td>paulo101977</td>\n",
       "      <td>c0noR</td>\n",
       "      <td>*</td>\n",
       "      <td>1595</td>\n",
       "      <td>...</td>\n",
       "      <td>1595.0</td>\n",
       "      <td>-16</td>\n",
       "      <td>B27</td>\n",
       "      <td>Unterminated</td>\n",
       "      <td>-</td>\n",
       "      <td>2020.02.01</td>\n",
       "      <td>00:05:58</td>\n",
       "      <td>Rated Correspondence</td>\n",
       "      <td>21.0</td>\n",
       "      <td>11.0</td>\n",
       "    </tr>\n",
       "    <tr>\n",
       "      <th>35834</th>\n",
       "      <td>44447e1d-c256-4773-8f95-484fe73d8e48</td>\n",
       "      <td>1060</td>\n",
       "      <td>game</td>\n",
       "      <td>https://lichess.org/mx1ayJ5t</td>\n",
       "      <td>2020.02.01</td>\n",
       "      <td>NaN</td>\n",
       "      <td>juanan_mh</td>\n",
       "      <td>iml8</td>\n",
       "      <td>*</td>\n",
       "      <td>1592</td>\n",
       "      <td>...</td>\n",
       "      <td>1592.0</td>\n",
       "      <td>-197</td>\n",
       "      <td>C41</td>\n",
       "      <td>Unterminated</td>\n",
       "      <td>-</td>\n",
       "      <td>2020.02.01</td>\n",
       "      <td>00:09:56</td>\n",
       "      <td>Rated Correspondence</td>\n",
       "      <td>61.0</td>\n",
       "      <td>31.0</td>\n",
       "    </tr>\n",
       "    <tr>\n",
       "      <th>38072</th>\n",
       "      <td>2d9251fb-8797-4c8d-b4ce-527edc6e8a67</td>\n",
       "      <td>811</td>\n",
       "      <td>game</td>\n",
       "      <td>https://lichess.org/OGuFdBla</td>\n",
       "      <td>2020.02.01</td>\n",
       "      <td>NaN</td>\n",
       "      <td>paulo101977</td>\n",
       "      <td>Rockdrixgo</td>\n",
       "      <td>*</td>\n",
       "      <td>1595</td>\n",
       "      <td>...</td>\n",
       "      <td>1595.0</td>\n",
       "      <td>81</td>\n",
       "      <td>C02</td>\n",
       "      <td>Unterminated</td>\n",
       "      <td>-</td>\n",
       "      <td>2020.02.01</td>\n",
       "      <td>00:12:25</td>\n",
       "      <td>Rated Correspondence</td>\n",
       "      <td>34.0</td>\n",
       "      <td>17.0</td>\n",
       "    </tr>\n",
       "    <tr>\n",
       "      <th>49447</th>\n",
       "      <td>79773e97-5241-42bc-bd92-594914219d00</td>\n",
       "      <td>2264</td>\n",
       "      <td>game</td>\n",
       "      <td>https://lichess.org/VyEsflw2</td>\n",
       "      <td>2020.02.01</td>\n",
       "      <td>NaN</td>\n",
       "      <td>vency</td>\n",
       "      <td>checkbang</td>\n",
       "      <td>*</td>\n",
       "      <td>1500</td>\n",
       "      <td>...</td>\n",
       "      <td>1500.0</td>\n",
       "      <td>152</td>\n",
       "      <td>D02</td>\n",
       "      <td>Unterminated</td>\n",
       "      <td>-</td>\n",
       "      <td>2020.02.01</td>\n",
       "      <td>00:26:32</td>\n",
       "      <td>Rated Correspondence</td>\n",
       "      <td>10.0</td>\n",
       "      <td>5.0</td>\n",
       "    </tr>\n",
       "    <tr>\n",
       "      <th>71457</th>\n",
       "      <td>588c3649-f8ad-46d4-bc81-5a1c4c638341</td>\n",
       "      <td>1837</td>\n",
       "      <td>game</td>\n",
       "      <td>https://lichess.org/Ichf1Cvp</td>\n",
       "      <td>2020.02.01</td>\n",
       "      <td>NaN</td>\n",
       "      <td>tdekko</td>\n",
       "      <td>leoniliagrant</td>\n",
       "      <td>*</td>\n",
       "      <td>1352</td>\n",
       "      <td>...</td>\n",
       "      <td>1352.0</td>\n",
       "      <td>100</td>\n",
       "      <td>C29</td>\n",
       "      <td>Unterminated</td>\n",
       "      <td>-</td>\n",
       "      <td>2020.02.01</td>\n",
       "      <td>02:05:59</td>\n",
       "      <td>Rated Correspondence</td>\n",
       "      <td>25.0</td>\n",
       "      <td>13.0</td>\n",
       "    </tr>\n",
       "    <tr>\n",
       "      <th>...</th>\n",
       "      <td>...</td>\n",
       "      <td>...</td>\n",
       "      <td>...</td>\n",
       "      <td>...</td>\n",
       "      <td>...</td>\n",
       "      <td>...</td>\n",
       "      <td>...</td>\n",
       "      <td>...</td>\n",
       "      <td>...</td>\n",
       "      <td>...</td>\n",
       "      <td>...</td>\n",
       "      <td>...</td>\n",
       "      <td>...</td>\n",
       "      <td>...</td>\n",
       "      <td>...</td>\n",
       "      <td>...</td>\n",
       "      <td>...</td>\n",
       "      <td>...</td>\n",
       "      <td>...</td>\n",
       "      <td>...</td>\n",
       "      <td>...</td>\n",
       "    </tr>\n",
       "    <tr>\n",
       "      <th>1481695</th>\n",
       "      <td>d8017630-cd9b-4cea-bc45-3cca31b45d94</td>\n",
       "      <td>28531</td>\n",
       "      <td>game</td>\n",
       "      <td>https://lichess.org/8YTkEvOX</td>\n",
       "      <td>2020.02.01</td>\n",
       "      <td>NaN</td>\n",
       "      <td>LeelaPi</td>\n",
       "      <td>GodelEscherBot</td>\n",
       "      <td>*</td>\n",
       "      <td>1863</td>\n",
       "      <td>...</td>\n",
       "      <td>1863.0</td>\n",
       "      <td>268</td>\n",
       "      <td>C11</td>\n",
       "      <td>Abandoned</td>\n",
       "      <td>600+5</td>\n",
       "      <td>2020.02.01</td>\n",
       "      <td>16:46:28</td>\n",
       "      <td>Rated Rapid</td>\n",
       "      <td>13.0</td>\n",
       "      <td>7.0</td>\n",
       "    </tr>\n",
       "    <tr>\n",
       "      <th>1485996</th>\n",
       "      <td>f331f225-b561-4cf6-a7a8-d5dcc2e75d61</td>\n",
       "      <td>32832</td>\n",
       "      <td>game</td>\n",
       "      <td>https://lichess.org/iqDWBxQz</td>\n",
       "      <td>2020.02.01</td>\n",
       "      <td>NaN</td>\n",
       "      <td>mrerubbany</td>\n",
       "      <td>tzvikab</td>\n",
       "      <td>*</td>\n",
       "      <td>1771</td>\n",
       "      <td>...</td>\n",
       "      <td>1771.0</td>\n",
       "      <td>78</td>\n",
       "      <td>B07</td>\n",
       "      <td>Unterminated</td>\n",
       "      <td>-</td>\n",
       "      <td>2020.02.01</td>\n",
       "      <td>16:49:28</td>\n",
       "      <td>Rated Correspondence</td>\n",
       "      <td>37.0</td>\n",
       "      <td>19.0</td>\n",
       "    </tr>\n",
       "    <tr>\n",
       "      <th>1492971</th>\n",
       "      <td>fd10aab5-6d2b-4cdd-a973-f3bfb140a0b9</td>\n",
       "      <td>39807</td>\n",
       "      <td>game</td>\n",
       "      <td>https://lichess.org/wv1MBNbR</td>\n",
       "      <td>2020.02.01</td>\n",
       "      <td>NaN</td>\n",
       "      <td>Blubberbro</td>\n",
       "      <td>Lurozcom</td>\n",
       "      <td>*</td>\n",
       "      <td>1745</td>\n",
       "      <td>...</td>\n",
       "      <td>1745.0</td>\n",
       "      <td>-89</td>\n",
       "      <td>A01</td>\n",
       "      <td>Unterminated</td>\n",
       "      <td>-</td>\n",
       "      <td>2020.02.01</td>\n",
       "      <td>16:54:17</td>\n",
       "      <td>Rated Correspondence</td>\n",
       "      <td>98.0</td>\n",
       "      <td>49.0</td>\n",
       "    </tr>\n",
       "    <tr>\n",
       "      <th>1498281</th>\n",
       "      <td>c4b886e4-d799-47a2-86e3-87eedc88bca6</td>\n",
       "      <td>45117</td>\n",
       "      <td>game</td>\n",
       "      <td>https://lichess.org/G64qDPPR</td>\n",
       "      <td>2020.02.01</td>\n",
       "      <td>NaN</td>\n",
       "      <td>orlechess</td>\n",
       "      <td>cowslinger</td>\n",
       "      <td>*</td>\n",
       "      <td>1500</td>\n",
       "      <td>...</td>\n",
       "      <td>1500.0</td>\n",
       "      <td>0</td>\n",
       "      <td>B10</td>\n",
       "      <td>Unterminated</td>\n",
       "      <td>-</td>\n",
       "      <td>2020.02.01</td>\n",
       "      <td>16:58:00</td>\n",
       "      <td>Rated Correspondence</td>\n",
       "      <td>2.0</td>\n",
       "      <td>1.0</td>\n",
       "    </tr>\n",
       "    <tr>\n",
       "      <th>1499730</th>\n",
       "      <td>a9571c6a-8c2e-41ef-ad46-a7d00843f94c</td>\n",
       "      <td>46566</td>\n",
       "      <td>game</td>\n",
       "      <td>https://lichess.org/d73cR9HG</td>\n",
       "      <td>2020.02.01</td>\n",
       "      <td>NaN</td>\n",
       "      <td>BodyaHerasymenko</td>\n",
       "      <td>xilentius</td>\n",
       "      <td>*</td>\n",
       "      <td>1500</td>\n",
       "      <td>...</td>\n",
       "      <td>1500.0</td>\n",
       "      <td>-111</td>\n",
       "      <td>C27</td>\n",
       "      <td>Unterminated</td>\n",
       "      <td>-</td>\n",
       "      <td>2020.02.01</td>\n",
       "      <td>16:59:02</td>\n",
       "      <td>Rated Correspondence</td>\n",
       "      <td>66.0</td>\n",
       "      <td>33.0</td>\n",
       "    </tr>\n",
       "  </tbody>\n",
       "</table>\n",
       "<p>148 rows × 28 columns</p>\n",
       "</div>"
      ],
      "text/plain": [
       "                                      game_id  game_order event  \\\n",
       "32523    bb46b061-6822-43e7-a3ce-cca70e042824         262  game   \n",
       "35834    44447e1d-c256-4773-8f95-484fe73d8e48        1060  game   \n",
       "38072    2d9251fb-8797-4c8d-b4ce-527edc6e8a67         811  game   \n",
       "49447    79773e97-5241-42bc-bd92-594914219d00        2264  game   \n",
       "71457    588c3649-f8ad-46d4-bc81-5a1c4c638341        1837  game   \n",
       "...                                       ...         ...   ...   \n",
       "1481695  d8017630-cd9b-4cea-bc45-3cca31b45d94       28531  game   \n",
       "1485996  f331f225-b561-4cf6-a7a8-d5dcc2e75d61       32832  game   \n",
       "1492971  fd10aab5-6d2b-4cdd-a973-f3bfb140a0b9       39807  game   \n",
       "1498281  c4b886e4-d799-47a2-86e3-87eedc88bca6       45117  game   \n",
       "1499730  a9571c6a-8c2e-41ef-ad46-a7d00843f94c       46566  game   \n",
       "\n",
       "                                 site date_played  round             white  \\\n",
       "32523    https://lichess.org/xKeU5YXU  2020.02.01    NaN       paulo101977   \n",
       "35834    https://lichess.org/mx1ayJ5t  2020.02.01    NaN         juanan_mh   \n",
       "38072    https://lichess.org/OGuFdBla  2020.02.01    NaN       paulo101977   \n",
       "49447    https://lichess.org/VyEsflw2  2020.02.01    NaN             vency   \n",
       "71457    https://lichess.org/Ichf1Cvp  2020.02.01    NaN            tdekko   \n",
       "...                               ...         ...    ...               ...   \n",
       "1481695  https://lichess.org/8YTkEvOX  2020.02.01    NaN           LeelaPi   \n",
       "1485996  https://lichess.org/iqDWBxQz  2020.02.01    NaN        mrerubbany   \n",
       "1492971  https://lichess.org/wv1MBNbR  2020.02.01    NaN        Blubberbro   \n",
       "1498281  https://lichess.org/G64qDPPR  2020.02.01    NaN         orlechess   \n",
       "1499730  https://lichess.org/d73cR9HG  2020.02.01    NaN  BodyaHerasymenko   \n",
       "\n",
       "                  black result  white_elo  ...  loser_elo  \\\n",
       "32523             c0noR      *       1595  ...     1595.0   \n",
       "35834              iml8      *       1592  ...     1592.0   \n",
       "38072        Rockdrixgo      *       1595  ...     1595.0   \n",
       "49447         checkbang      *       1500  ...     1500.0   \n",
       "71457     leoniliagrant      *       1352  ...     1352.0   \n",
       "...                 ...    ...        ...  ...        ...   \n",
       "1481695  GodelEscherBot      *       1863  ...     1863.0   \n",
       "1485996         tzvikab      *       1771  ...     1771.0   \n",
       "1492971        Lurozcom      *       1745  ...     1745.0   \n",
       "1498281      cowslinger      *       1500  ...     1500.0   \n",
       "1499730       xilentius      *       1500  ...     1500.0   \n",
       "\n",
       "         winner_loser_elo_diff  eco   termination time_control    utc_date  \\\n",
       "32523                      -16  B27  Unterminated            -  2020.02.01   \n",
       "35834                     -197  C41  Unterminated            -  2020.02.01   \n",
       "38072                       81  C02  Unterminated            -  2020.02.01   \n",
       "49447                      152  D02  Unterminated            -  2020.02.01   \n",
       "71457                      100  C29  Unterminated            -  2020.02.01   \n",
       "...                        ...  ...           ...          ...         ...   \n",
       "1481695                    268  C11     Abandoned        600+5  2020.02.01   \n",
       "1485996                     78  B07  Unterminated            -  2020.02.01   \n",
       "1492971                    -89  A01  Unterminated            -  2020.02.01   \n",
       "1498281                      0  B10  Unterminated            -  2020.02.01   \n",
       "1499730                   -111  C27  Unterminated            -  2020.02.01   \n",
       "\n",
       "         utc_time               variant  ply_count  move_no_pair  \n",
       "32523    00:05:58  Rated Correspondence       21.0          11.0  \n",
       "35834    00:09:56  Rated Correspondence       61.0          31.0  \n",
       "38072    00:12:25  Rated Correspondence       34.0          17.0  \n",
       "49447    00:26:32  Rated Correspondence       10.0           5.0  \n",
       "71457    02:05:59  Rated Correspondence       25.0          13.0  \n",
       "...           ...                   ...        ...           ...  \n",
       "1481695  16:46:28           Rated Rapid       13.0           7.0  \n",
       "1485996  16:49:28  Rated Correspondence       37.0          19.0  \n",
       "1492971  16:54:17  Rated Correspondence       98.0          49.0  \n",
       "1498281  16:58:00  Rated Correspondence        2.0           1.0  \n",
       "1499730  16:59:02  Rated Correspondence       66.0          33.0  \n",
       "\n",
       "[148 rows x 28 columns]"
      ]
     },
     "execution_count": 11,
     "metadata": {},
     "output_type": "execute_result"
    }
   ],
   "source": [
    "df.loc[df[\"result\"] == \"*\"]"
   ]
  },
  {
   "cell_type": "markdown",
   "metadata": {},
   "source": [
    "Vemos que la mayoría en su columna termination tienen valor \"Unterminated\" o \"Abandoned\" por lo que podemos determinar que son partidas sin terminar que no ayudarán en nuestro análisis. Afortunadamente, estas conforman tan solo 148 partidas, por lo que podremos dispensar de ellas al filtrar la fuente de datos."
   ]
  },
  {
   "cell_type": "code",
   "execution_count": 12,
   "metadata": {},
   "outputs": [
    {
     "data": {
      "text/plain": [
       "array([nan, 'NM', 'GM', 'IM', 'FM', 'CM', 'LM', 'WGM', 'BOT', 'WFM',\n",
       "       'WCM', 'WIM'], dtype=object)"
      ]
     },
     "execution_count": 12,
     "metadata": {},
     "output_type": "execute_result"
    }
   ],
   "source": [
    "df[\"white_title\"].unique()"
   ]
  },
  {
   "cell_type": "markdown",
   "metadata": {},
   "source": [
    "Aqui vemos otra categoría, siendo esta el título que tiene el jugador (Grand Master, International Master...)"
   ]
  },
  {
   "cell_type": "code",
   "execution_count": 13,
   "metadata": {},
   "outputs": [
    {
     "data": {
      "text/plain": [
       "array(['unclJ', 'Ice29', 'SpaceJockey', ..., 'gthree317', 'serdaroz',\n",
       "       'AYYY123'], dtype=object)"
      ]
     },
     "execution_count": 13,
     "metadata": {},
     "output_type": "execute_result"
    }
   ],
   "source": [
    "df[\"winner\"].unique()"
   ]
  },
  {
   "cell_type": "markdown",
   "metadata": {},
   "source": [
    "Nuevamente encontramos aquí nombres de jugadores; por lo que podemos asumir que \"loser\" tendrá lo mismo."
   ]
  },
  {
   "cell_type": "code",
   "execution_count": 14,
   "metadata": {},
   "outputs": [
    {
     "data": {
      "text/plain": [
       "array(['C00', 'C80', 'D00', 'A40', 'C20', 'C23', 'B25', 'C72', 'C45',\n",
       "       'B01', 'C40', 'C41', 'B30', 'C44', 'A04', 'C02', 'D45', 'A51',\n",
       "       'D06', 'C51', 'B06', 'C50', 'B32', 'B10', 'B34', 'A02', 'D02',\n",
       "       'B00', 'A00', 'D01', 'D10', 'B23', 'C46', 'A45', 'B21', 'A15',\n",
       "       'C62', 'C30', 'B07', 'C01', 'C24', 'C68', 'C34', 'A20', 'C31',\n",
       "       'D35', 'A25', 'A01', 'D21', 'C49', 'B33', 'E90', 'C55', 'C42',\n",
       "       'A46', 'C53', 'C26', 'D40', 'A50', 'D05', 'C22', 'B13', 'D20',\n",
       "       'E76', 'B20', 'A06', 'B02', '?', 'B54', 'D04', 'A43', 'A10', 'C63',\n",
       "       'C47', 'A12', 'E61', 'A80', 'A17', 'D15', 'B12', 'D37', 'B56',\n",
       "       'A52', 'D30', 'D08', 'C77', 'B50', 'E70', 'B36', 'D43', 'C48',\n",
       "       'B03', 'A03', 'B27', 'A41', 'A48', 'C54', 'B40', 'A30', 'A42',\n",
       "       'A07', 'B08', 'A13', 'E54', 'C64', 'E18', 'D90', 'D38', 'B51',\n",
       "       'E10', 'C60', 'B90', 'D31', 'B29', 'C58', 'A22', 'C57', 'B45',\n",
       "       'A56', 'B19', 'E32', 'A49', 'A31', 'C21', 'C35', 'D32', 'D07',\n",
       "       'C70', 'B24', 'B70', 'B09', 'E11', 'C61', 'A16', 'B22', 'A09',\n",
       "       'B47', 'A35', 'B94', 'B11', 'E60', 'C65', 'D44', 'A08', 'C66',\n",
       "       'A29', 'E30', 'B52', 'C28', 'A71', 'A05', 'B35', 'E15', 'D85',\n",
       "       'C18', 'C33', 'C10', 'B95', 'A34', 'A21', 'B76', 'B88', 'B72',\n",
       "       'B28', 'C25', 'A57', 'B57', 'C69', 'A38', 'C43', 'C13', 'B17',\n",
       "       'B83', 'C27', 'C11', 'B44', 'B15', 'D11', 'E06', 'A23', 'A70',\n",
       "       'C36', 'D78', 'A65', 'E62', 'D94', 'A53', 'A85', 'B49', 'B75',\n",
       "       'A84', 'C07', 'D33', 'B37', 'C38', 'D60', 'E73', 'B53', 'E91',\n",
       "       'C29', 'D46', 'B16', 'B43', 'E41', 'A28', 'D52', 'D55', 'B31',\n",
       "       'D03', 'B14', 'B86', 'A11', 'D91', 'E00', 'C17', 'B18', 'E66',\n",
       "       'D25', 'A60', 'E21', 'D50', 'D12', 'E67', 'A36', 'D79', 'B04',\n",
       "       'C12', 'D74', 'E77', 'C67', 'B71', 'C37', 'D53', 'E81', 'B41',\n",
       "       'E94', 'A97', 'C05', 'B92', 'D24', 'A90', 'C52', 'A73', 'C78',\n",
       "       'E40', 'C74', 'B78', 'A81', 'C15', 'A82', 'A44', 'A95', 'E17',\n",
       "       'A33', 'D26', 'E20', 'D80', 'B80', 'E69', 'A58', 'D61', 'D58',\n",
       "       'B38', 'C08', 'C03', 'B05', 'C71', 'B46', 'A77', 'A18', 'A96',\n",
       "       'D51', 'E34', 'B62', 'D59', 'B42', 'C14', 'D09', 'B63', 'D41',\n",
       "       'E64', 'C56', 'B77', 'A47', 'B89', 'D19', 'B60', 'C16', 'E51',\n",
       "       'A67', 'D13', 'A54', 'E98', 'A27', 'A92', 'C88', 'E68', 'D16',\n",
       "       'D93', 'E47', 'A98', 'D47', 'D14', 'C90', 'C96', 'C89', 'B84',\n",
       "       'E24', 'B99', 'B93', 'B26', 'C59', 'D23', 'A59', 'D75', 'A61',\n",
       "       'E01', 'E27', 'A39', 'A37', 'C79', 'B91', 'E48', 'C84', 'A94',\n",
       "       'E12', 'A69', 'E97', 'E04', 'D92', 'E71', 'C85', 'A72', 'D82',\n",
       "       'E05', 'E22', 'D70', 'E93', 'B59', 'E16', 'B39', 'B48', 'C87',\n",
       "       'E50', 'B98', 'B82', 'E92', 'A55', 'E83', 'B55', 'D77', 'A68',\n",
       "       'A83', 'B73', 'E85', 'E87', 'C09', 'D34', 'A14', 'E65', 'D22',\n",
       "       'A74', 'A19', 'D96', 'E14', 'E33', 'D88', 'D87', 'E42', 'D71',\n",
       "       'A88', 'A66', 'E57', 'D86', 'A32', 'C32', 'C91', 'C39', 'E43',\n",
       "       'C06', 'D39', 'B58', 'E99', 'E72', 'E63', 'E36', 'D18', 'E88',\n",
       "       'A26', 'D73', 'D36', 'A24', 'E25', 'C93', 'A91', 'D17', 'D57',\n",
       "       'E38', 'E26', 'E53', 'E07', 'E09', 'A86', 'C19', 'B81', 'E80',\n",
       "       'E45', 'D83', 'B97', 'B87', 'C73', 'B96', 'D84', 'C92', 'E75',\n",
       "       'C75', 'B74', 'C04', 'E37', 'E44', 'E74', 'E86', 'A87', 'D27',\n",
       "       'D95', 'D97', 'C95', 'E02', 'E95', 'E08', 'D67', 'E35', 'A76',\n",
       "       'E46', 'C83', 'E56', 'D56', 'D48', 'E28', 'A63', 'E13', 'E39',\n",
       "       'C86', 'A62', 'A89', 'D89', 'E84', 'C82', 'D42', 'B61', 'B67',\n",
       "       'C97', 'C76', 'B85', 'E49', 'C94', 'D81', 'E82', 'E23', 'D28',\n",
       "       'A64', 'E19', 'C98', 'E78', 'D29', 'E59', 'C99', 'E79', 'D76',\n",
       "       'A79', 'B65', 'E52', 'B79', 'A99', 'E89', 'D98', 'A75', 'D72',\n",
       "       'E55', 'E29', 'B64', 'D62', 'A78', 'D69', 'D68', 'C81', 'E03',\n",
       "       'E31', 'B66', 'B69', 'B68', 'D49'], dtype=object)"
      ]
     },
     "execution_count": 14,
     "metadata": {},
     "output_type": "execute_result"
    }
   ],
   "source": [
    "df[\"eco\"].unique()"
   ]
  },
  {
   "cell_type": "markdown",
   "metadata": {},
   "source": [
    "Conociendo el dominio, podemos saber que eco refiere al código identificatorio de la apertura. Estas aperturas tienen, a su vez, nombres más conocidos como el famoso \"Gambito de dama\". Por eso, hemos decidido buscar otro archivo que vincula estos códigos con la apertura conocida. Este es un punto que nos interesaría analizar y, por lo tanto, lo consideraremos categórico a pesar de que puedan existir grupos con bajas frecuencias."
   ]
  },
  {
   "cell_type": "code",
   "execution_count": 15,
   "metadata": {},
   "outputs": [
    {
     "data": {
      "text/plain": [
       "array(['Normal', 'Time forfeit', 'Abandoned', 'Rules infraction',\n",
       "       'Unterminated'], dtype=object)"
      ]
     },
     "execution_count": 15,
     "metadata": {},
     "output_type": "execute_result"
    }
   ],
   "source": [
    "df[\"termination\"].unique()"
   ]
  },
  {
   "cell_type": "markdown",
   "metadata": {},
   "source": [
    "Vemos que termination es una categoría y refiere a cómo termino. Investigando un poco, encontramos que Rules infraction refiere a que la cuenta de uno de los jugadores fue suspendida por actividad sospechosa (hacer trampa en la partida actual o en partidas previas)"
   ]
  },
  {
   "cell_type": "code",
   "execution_count": 16,
   "metadata": {},
   "outputs": [
    {
     "data": {
      "text/plain": [
       "array(['Rated Rapid', 'Rated Blitz', 'Rated Bullet', 'Rated Classical',\n",
       "       'Rated UltraBullet', 'Rated Correspondence'], dtype=object)"
      ]
     },
     "execution_count": 16,
     "metadata": {},
     "output_type": "execute_result"
    }
   ],
   "source": [
    "df[\"variant\"].unique()"
   ]
  },
  {
   "cell_type": "markdown",
   "metadata": {},
   "source": [
    "Vemos que variant es otra categoría que podremos tomar en cuenta para nuestro análisis, representando el tipo de partida."
   ]
  },
  {
   "cell_type": "code",
   "execution_count": 17,
   "metadata": {},
   "outputs": [
    {
     "data": {
      "text/plain": [
       "array(['600+0', '300+0', '180+0', '60+0', '180+2', '30+0', '300+8',\n",
       "       '600+10', '300+3', '60+5', '900+15', '180+1', '60+1', '120+1',\n",
       "       '15+0', '960+5', '120+0', '1800+2', '45+0', '900+0', '600+8',\n",
       "       '240+0', '300+5', '30+2', '0+1', '240+4', '60+2', '180+4', '480+0',\n",
       "       '300+10', '120+3', '600+30', '1200+0', '900+8', '360+3', '540+0',\n",
       "       '180+5', '0+5', '15+4', '300+2', '1500+9', '420+1', '-', '180+10',\n",
       "       '90+0', '420+0', '480+8', '3600+0', '1800+0', '900+10', '60+10',\n",
       "       '300+7', '120+4', '360+0', '600+2', '60+8', '300+20', '600+5',\n",
       "       '45+1', '180+3', '840+7', '480+2', '15+3', '360+5', '360+11',\n",
       "       '240+5', '720+0', '0+3', '900+5', '1200+2', '1800+10', '300+4',\n",
       "       '420+2', '360+2', '540+5', '120+2', '600+7', '420+4', '45+3',\n",
       "       '300+1', '1500+0', '900+1', '60+3', '840+10', '90+2', '480+5',\n",
       "       '480+4', '1200+4', '120+8', '3600+20', '780+4', '840+2', '600+3',\n",
       "       '1200+20', '120+10', '1200+8', '300+12', '720+8', '0+10', '660+35',\n",
       "       '1140+0', '2700+30', '540+8', '600+1', '1800+30', '1500+5',\n",
       "       '5400+90', '540+4', '900+14', '240+2', '1800+5', '120+5', '15+5',\n",
       "       '480+1', '5400+5', '900+3', '720+2', '900+7', '2400+5', '1800+20',\n",
       "       '0+4', '1200+25', '1200+5', '4500+0', '600+15', '1200+1', '360+6',\n",
       "       '90+1', '960+13', '30+1', '5400+30', '420+3', '1500+10', '0+6',\n",
       "       '1200+10', '240+1', '2700+2', '15+1', '0+2', '3600+10', '360+8',\n",
       "       '1800+60', '0+7', '600+6', '720+3', '30+3', '480+3', '600+9',\n",
       "       '300+6', '300+15', '840+1', '420+5', '840+0', '1200+15', '2400+10',\n",
       "       '900+20', '2700+15', '720+10', '600+4', '180+7', '600+20', '60+4',\n",
       "       '1500+20', '2700+0', '480+10', '840+15', '840+5', '2700+5',\n",
       "       '1800+8', '660+5', '300+25', '10800+0', '960+2', '420+7', '2100+5',\n",
       "       '720+15', '1500+15', '2400+0', '5400+2', '120+12', '1500+2',\n",
       "       '1020+0', '900+2', '2100+20', '240+16', '780+8', '660+7',\n",
       "       '3600+30', '2400+8', '660+0', '1500+8', '10800+180', '900+16',\n",
       "       '420+8', '900+4', '540+12', '10800+15', '240+3', '540+2', '300+40',\n",
       "       '240+6', '30+5', '540+3', '240+12', '780+5', '3600+90', '1200+30',\n",
       "       '180+8', '1080+8', '2400+15', '1800+15', '360+10', '60+6',\n",
       "       '3600+15', '480+6', '720+5', '540+9', '30+40', '1800+90', '780+6',\n",
       "       '1200+7', '1800+4', '420+20', '5400+0', '3600+5', '180+15',\n",
       "       '900+30', '600+35', '2700+10', '1140+9', '2700+8', '45+2', '90+6',\n",
       "       '120+30', '480+15', '840+14', '1080+10', '660+2', '60+25', '15+8',\n",
       "       '840+16', '780+13', '900+17', '1200+180', '60+9', '2100+30',\n",
       "       '15+180', '960+10', '0+9', '120+15', '1200+3', '780+3', '720+7',\n",
       "       '660+10', '2400+40', '900+12', '1020+17', '720+14', '300+9',\n",
       "       '0+11', '30+11', '0+15', '360+4', '720+4', '300+30', '45+5',\n",
       "       '1800+6', '420+6', '3600+60', '900+9', '420+10', '300+13',\n",
       "       '2700+45', '600+19', '300+14', '90+5', '5400+7', '900+6', '120+7',\n",
       "       '30+4', '0+8', '15+30', '1080+0', '7200+10', '60+11', '1200+12',\n",
       "       '420+12', '900+35', '840+9', '480+12', '2100+14', '120+180',\n",
       "       '1800+7', '120+20', '1200+9', '240+7', '1500+6', '660+8', '360+35',\n",
       "       '660+11', '300+17', '240+20', '1080+11', '4500+30', '540+15',\n",
       "       '1200+6', '960+16', '840+6', '0+180', '180+6', '60+40', '4500+17',\n",
       "       '600+12', '360+7', '540+1', '2700+3', '120+6', '30+60', '720+12',\n",
       "       '1500+19', '2400+12', '480+7', '540+6', '1020+7', '1140+5',\n",
       "       '300+11', '780+0', '600+11', '30+7', '240+8', '840+3', '2100+0',\n",
       "       '540+7', '1800+1', '360+1', '540+10', '960+0', '360+12', '1080+6',\n",
       "       '840+12', '960+17', '60+15', '1500+30', '2100+8', '15+40', '840+8',\n",
       "       '720+13', '15+15', '90+8', '960+6', '780+2', '480+9', '1080+4',\n",
       "       '15+6', '30+10', '480+18', '960+20', '90+3', '1140+8', '10800+150',\n",
       "       '7200+180', '1800+180', '9000+0', '5400+10', '15+11', '180+20',\n",
       "       '900+13', '2700+90', '660+3', '420+9', '1500+3', '1800+45',\n",
       "       '240+9', '240+30', '540+17', '780+15', '10800+5', '900+40',\n",
       "       '1080+13', '0+12', '5400+25', '960+1', '900+60', '3600+45',\n",
       "       '3600+8', '1500+180', '7200+0', '2400+20', '2700+25', '1800+25',\n",
       "       '780+7', '30+9', '15+25', '180+9', '660+6', '15+20', '1500+25',\n",
       "       '2700+20', '5400+8', '1500+1', '2100+15', '2700+1', '1080+5',\n",
       "       '780+19', '7200+90', '90+15', '660+20', '960+15', '90+9',\n",
       "       '1140+15', '600+18', '600+16', '1080+35', '1140+2', '960+8',\n",
       "       '15+2', '1020+2', '780+1', '720+6', '1080+9', '240+10', '30+6',\n",
       "       '420+15', '900+45', '660+12', '0+60', '7200+30', '600+45',\n",
       "       '1200+150', '1020+10', '2700+13', '2400+35', '1800+11', '1080+3',\n",
       "       '1500+45', '720+20', '1200+60', '420+25', '7200+8', '1500+4',\n",
       "       '300+180', '1800+16', '1080+25', '3600+180', '780+14', '0+17',\n",
       "       '7200+15', '45+4', '1080+2', '60+20', '600+14', '120+14',\n",
       "       '2100+10', '2400+30', '720+1', '90+16', '540+120', '1800+3',\n",
       "       '45+11', '0+30', '540+16'], dtype=object)"
      ]
     },
     "execution_count": 17,
     "metadata": {},
     "output_type": "execute_result"
    }
   ],
   "source": [
    "df[\"time_control\"].unique()"
   ]
  },
  {
   "cell_type": "markdown",
   "metadata": {},
   "source": [
    "Por último, vemos que time control también podría ser una categoría siendo que se refiere al tipo de reloj utilizado para la partida. \n",
    "\n",
    "Aun así, no lo consideraremos como tal porque podriamos tener algunas con muy pocas partidas contenidas, debido a que se trata de una configuración modificable en partidas personalizadas. Consideraremos entonces, solo los time control asociados con tipos de partidas estándar (vistas en variant)"
   ]
  },
  {
   "cell_type": "markdown",
   "metadata": {},
   "source": [
    "Para nuestro próximo análisis, consideraremos solamente los datos numéricos. Se transformará result en numérico haciendo el reemplazo que puede ser visto en el diccionario \"res\".\n",
    "\n",
    "Ahora, vamos a echarle un vistazo a los valores numéricos con la función describe(). Los resultados presentados de esta función están redondeados a 3 posiciones decimales para mejor legibilidad. Se tomará como referencia para el describe un DataFrame sin la columna \"round\" ya que esta, como vimos anteriormente, es nula."
   ]
  },
  {
   "cell_type": "code",
   "execution_count": 19,
   "metadata": {},
   "outputs": [
    {
     "data": {
      "text/html": [
       "<div>\n",
       "<style scoped>\n",
       "    .dataframe tbody tr th:only-of-type {\n",
       "        vertical-align: middle;\n",
       "    }\n",
       "\n",
       "    .dataframe tbody tr th {\n",
       "        vertical-align: top;\n",
       "    }\n",
       "\n",
       "    .dataframe thead th {\n",
       "        text-align: right;\n",
       "    }\n",
       "</style>\n",
       "<table border=\"1\" class=\"dataframe\">\n",
       "  <thead>\n",
       "    <tr style=\"text-align: right;\">\n",
       "      <th></th>\n",
       "      <th>game_order</th>\n",
       "      <th>result</th>\n",
       "      <th>white_elo</th>\n",
       "      <th>white_rating_diff</th>\n",
       "      <th>black_elo</th>\n",
       "      <th>black_rating_diff</th>\n",
       "      <th>winner_elo</th>\n",
       "      <th>loser_elo</th>\n",
       "      <th>winner_loser_elo_diff</th>\n",
       "      <th>ply_count</th>\n",
       "      <th>move_no_pair</th>\n",
       "    </tr>\n",
       "  </thead>\n",
       "  <tbody>\n",
       "    <tr>\n",
       "      <th>count</th>\n",
       "      <td>1502870.000</td>\n",
       "      <td>1502722.000</td>\n",
       "      <td>1502870.000</td>\n",
       "      <td>1501716.000</td>\n",
       "      <td>1502870.000</td>\n",
       "      <td>1501716.000</td>\n",
       "      <td>1444612.000</td>\n",
       "      <td>1444612.000</td>\n",
       "      <td>1502870.000</td>\n",
       "      <td>1501071.000</td>\n",
       "      <td>1501071.000</td>\n",
       "    </tr>\n",
       "    <tr>\n",
       "      <th>mean</th>\n",
       "      <td>22742.806</td>\n",
       "      <td>0.033</td>\n",
       "      <td>1668.846</td>\n",
       "      <td>0.172</td>\n",
       "      <td>1668.797</td>\n",
       "      <td>-0.356</td>\n",
       "      <td>1682.795</td>\n",
       "      <td>1650.737</td>\n",
       "      <td>30.815</td>\n",
       "      <td>66.382</td>\n",
       "      <td>33.449</td>\n",
       "    </tr>\n",
       "    <tr>\n",
       "      <th>std</th>\n",
       "      <td>15559.938</td>\n",
       "      <td>0.980</td>\n",
       "      <td>347.614</td>\n",
       "      <td>16.589</td>\n",
       "      <td>347.670</td>\n",
       "      <td>16.044</td>\n",
       "      <td>350.593</td>\n",
       "      <td>342.708</td>\n",
       "      <td>129.711</td>\n",
       "      <td>30.589</td>\n",
       "      <td>15.290</td>\n",
       "    </tr>\n",
       "    <tr>\n",
       "      <th>min</th>\n",
       "      <td>1.000</td>\n",
       "      <td>-1.000</td>\n",
       "      <td>600.000</td>\n",
       "      <td>-660.000</td>\n",
       "      <td>600.000</td>\n",
       "      <td>-646.000</td>\n",
       "      <td>600.000</td>\n",
       "      <td>600.000</td>\n",
       "      <td>-1594.000</td>\n",
       "      <td>1.000</td>\n",
       "      <td>1.000</td>\n",
       "    </tr>\n",
       "    <tr>\n",
       "      <th>25%</th>\n",
       "      <td>8386.000</td>\n",
       "      <td>-1.000</td>\n",
       "      <td>1419.000</td>\n",
       "      <td>-6.000</td>\n",
       "      <td>1418.000</td>\n",
       "      <td>-6.000</td>\n",
       "      <td>1428.000</td>\n",
       "      <td>1406.000</td>\n",
       "      <td>-24.000</td>\n",
       "      <td>45.000</td>\n",
       "      <td>23.000</td>\n",
       "    </tr>\n",
       "    <tr>\n",
       "      <th>50%</th>\n",
       "      <td>22302.000</td>\n",
       "      <td>0.000</td>\n",
       "      <td>1670.000</td>\n",
       "      <td>1.000</td>\n",
       "      <td>1670.000</td>\n",
       "      <td>-1.000</td>\n",
       "      <td>1682.000</td>\n",
       "      <td>1655.000</td>\n",
       "      <td>8.000</td>\n",
       "      <td>63.000</td>\n",
       "      <td>32.000</td>\n",
       "    </tr>\n",
       "    <tr>\n",
       "      <th>75%</th>\n",
       "      <td>36217.000</td>\n",
       "      <td>1.000</td>\n",
       "      <td>1914.000</td>\n",
       "      <td>6.000</td>\n",
       "      <td>1914.000</td>\n",
       "      <td>6.000</td>\n",
       "      <td>1930.000</td>\n",
       "      <td>1894.000</td>\n",
       "      <td>63.000</td>\n",
       "      <td>84.000</td>\n",
       "      <td>42.000</td>\n",
       "    </tr>\n",
       "    <tr>\n",
       "      <th>max</th>\n",
       "      <td>61197.000</td>\n",
       "      <td>1.000</td>\n",
       "      <td>3328.000</td>\n",
       "      <td>690.000</td>\n",
       "      <td>3328.000</td>\n",
       "      <td>669.000</td>\n",
       "      <td>3328.000</td>\n",
       "      <td>3051.000</td>\n",
       "      <td>2181.000</td>\n",
       "      <td>319.000</td>\n",
       "      <td>160.000</td>\n",
       "    </tr>\n",
       "  </tbody>\n",
       "</table>\n",
       "</div>"
      ],
      "text/plain": [
       "       game_order      result   white_elo  white_rating_diff   black_elo  \\\n",
       "count 1502870.000 1502722.000 1502870.000        1501716.000 1502870.000   \n",
       "mean    22742.806       0.033    1668.846              0.172    1668.797   \n",
       "std     15559.938       0.980     347.614             16.589     347.670   \n",
       "min         1.000      -1.000     600.000           -660.000     600.000   \n",
       "25%      8386.000      -1.000    1419.000             -6.000    1418.000   \n",
       "50%     22302.000       0.000    1670.000              1.000    1670.000   \n",
       "75%     36217.000       1.000    1914.000              6.000    1914.000   \n",
       "max     61197.000       1.000    3328.000            690.000    3328.000   \n",
       "\n",
       "       black_rating_diff  winner_elo   loser_elo  winner_loser_elo_diff  \\\n",
       "count        1501716.000 1444612.000 1444612.000            1502870.000   \n",
       "mean              -0.356    1682.795    1650.737                 30.815   \n",
       "std               16.044     350.593     342.708                129.711   \n",
       "min             -646.000     600.000     600.000              -1594.000   \n",
       "25%               -6.000    1428.000    1406.000                -24.000   \n",
       "50%               -1.000    1682.000    1655.000                  8.000   \n",
       "75%                6.000    1930.000    1894.000                 63.000   \n",
       "max              669.000    3328.000    3051.000               2181.000   \n",
       "\n",
       "        ply_count  move_no_pair  \n",
       "count 1501071.000   1501071.000  \n",
       "mean       66.382        33.449  \n",
       "std        30.589        15.290  \n",
       "min         1.000         1.000  \n",
       "25%        45.000        23.000  \n",
       "50%        63.000        32.000  \n",
       "75%        84.000        42.000  \n",
       "max       319.000       160.000  "
      ]
     },
     "execution_count": 19,
     "metadata": {},
     "output_type": "execute_result"
    }
   ],
   "source": [
    "import numpy as np\n",
    "\n",
    "res = {\n",
    "  \"*\": np.nan,\n",
    "  \"1-0\" : 1,\n",
    "  \"0-1\" : -1,\n",
    "  \"1/2-1/2\" : 0,\n",
    "}\n",
    "df.replace({\"result\": res}, inplace=True)\n",
    "df_describe = df.drop(columns=[\"round\"])\n",
    "\n",
    "pd.set_option('display.float_format', lambda x: '%.3f' % x)\n",
    "df_describe.describe()"
   ]
  },
  {
   "cell_type": "markdown",
   "metadata": {},
   "source": [
    "Al ver la fila count, podemos ver que hay algunos valores faltantes en columnas como white_rating_diff y otras columnas. Esto también nos lleva a la pregunta: cuántos nulos tienen los datos en nuestro DataFrame? Para determinar esto diseñamos 2 gráficos con la librería seaborn:"
   ]
  },
  {
   "cell_type": "code",
   "execution_count": 20,
   "metadata": {},
   "outputs": [
    {
     "data": {
      "text/plain": [
       "Text(0.5, 1.0, 'Datos Faltantes')"
      ]
     },
     "execution_count": 20,
     "metadata": {},
     "output_type": "execute_result"
    },
    {
     "data": {
      "image/png": "[encoded data removed]",
      "text/plain": [
       "<Figure size 1000x600 with 2 Axes>"
      ]
     },
     "metadata": {},
     "output_type": "display_data"
    }
   ],
   "source": [
    "import seaborn as sns\n",
    "import matplotlib.pyplot as plt\n",
    "\n",
    "\n",
    "plt.figure(figsize=(10,6))\n",
    "sns.heatmap(df.isna().transpose(),\n",
    "            cmap=\"YlGnBu\",\n",
    "            cbar_kws={'label': 'Faltantes'})\n",
    "plt.title(\"Datos Faltantes\")"
   ]
  },
  {
   "cell_type": "markdown",
   "metadata": {},
   "source": [
    "Vemos que los datos son extremadamente completos, habiendo relativamente pocos nulos dentro de las columnas.\n",
    "\n",
    "En cuanto a las columnas x_title, era evidente que iba a tener muchos nulos ya que estas partidas provienen de un sitio web; y por ende, la mayoría de usuarios son casuales y no tienen un título.\n",
    "\n",
    "Vemos también que existen nulos en winner_elo y loser_elo de los que probablemente podremos dispensar llegado al punto del análisis debido a la gran cantidad de datos con los que contamos (+1.5M)\n",
    "\n",
    "Por último, vemos algunos nulos en ply_count y move_no_pair los cuales pueden llegar a ser de las partidas no terminadas, marcadas con * en su result."
   ]
  },
  {
   "cell_type": "code",
   "execution_count": null,
   "metadata": {},
   "outputs": [
    {
     "data": {
      "image/png": "[encoded data removed]",
      "text/plain": [
       "<Figure size 640x480 with 2 Axes>"
      ]
     },
     "metadata": {},
     "output_type": "display_data"
    },
    {
     "data": {
      "text/plain": [
       "<Figure size 1000x0 with 0 Axes>"
      ]
     },
     "metadata": {},
     "output_type": "display_data"
    }
   ],
   "source": [
    "solo_numericos = df.loc[:, (df.dtypes == np.float64) | (df.dtypes == np.int64)]\n",
    "dataplot = sns.heatmap(solo_numericos.corr(), cmap=\"YlGnBu\")\n",
    "# displaying heatmap\n",
    "plt.title(\"Heatmap de Datos\")\n",
    "plt.figure(figsize=(10,0))\n",
    "plt.show()"
   ]
  },
  {
   "cell_type": "markdown",
   "metadata": {},
   "source": [
    "Tras haber realizado esta revisión inicial del DataFrame, podemos concluir que la fuente de datos elegida es adecuada para el trabajo que queremos hacer. Contiene los atributos necesarios, la cantidad suficiente de datos, y no tiene muchos nulos en terminos relativos a la cantidad de datos."
   ]
  }
 ],
 "metadata": {
  "kernelspec": {
   "display_name": "Python 3",
   "language": "python",
   "name": "python3"
  },
  "language_info": {
   "codemirror_mode": {
    "name": "ipython",
    "version": 3
   },
   "file_extension": ".py",
   "mimetype": "text/x-python",
   "name": "python",
   "nbconvert_exporter": "python",
   "pygments_lexer": "ipython3",
   "version": "3.10.4"
  },
  "orig_nbformat": 4
 },
 "nbformat": 4,
 "nbformat_minor": 2
}
