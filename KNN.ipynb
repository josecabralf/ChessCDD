{
 "cells": [
  {
   "cell_type": "code",
   "execution_count": 5,
   "metadata": {},
   "outputs": [
    {
     "name": "stdout",
     "output_type": "stream",
     "text": [
      "Precisión del modelo K-NN: 0.49\n"
     ]
    }
   ],
   "source": [
    "import pandas as pd\n",
    "from sklearn.neighbors import KNeighborsClassifier\n",
    "from sklearn.model_selection import train_test_split\n",
    "from sklearn.metrics import accuracy_score\n",
    "\n",
    "# Cargar el conjunto de datos\n",
    "df = pd.read_csv('./Data/chess_numeric.csv')\n",
    "\n",
    "# Filtrar las clases más comunes (cambiar el umbral según sea necesario)\n",
    "value_counts = df['eco'].value_counts()\n",
    "ecos_comunes = value_counts[value_counts > 100].index\n",
    "filt = df['eco'].isin(ecos_comunes)\n",
    "df = df.loc[filt]\n",
    "\n",
    "# Dividir los datos en características (X) y etiquetas (y)\n",
    "X = df.drop(['game_order', 'event', 'result', 'white_rating_diff', 'black_rating_diff', \n",
    "             'winner_loser_elo_diff', 'termination', 'variant', 'ply_count'], axis=1)\n",
    "y = df['result']\n",
    "\n",
    "# Dividir los datos en conjuntos de entrenamiento y prueba\n",
    "X_train, X_test, y_train, y_test = train_test_split(X, y, test_size=0.15, random_state=42)\n",
    "\n",
    "# Crear un clasificador K-NN (puedes ajustar el valor de k según sea necesario)\n",
    "k = 5  # Número de vecinos cercanos a considerar\n",
    "model = KNeighborsClassifier(n_neighbors=k)\n",
    "\n",
    "# Entrenar el modelo K-NN\n",
    "model.fit(X_train, y_train)\n",
    "\n",
    "# Realizar predicciones en los datos de prueba\n",
    "y_pred = model.predict(X_test)\n",
    "\n",
    "# Calcular la precisión del modelo\n",
    "accuracy = accuracy_score(y_test, y_pred)\n",
    "print(f'Precisión del modelo K-NN: {accuracy:.2f}')\n"
   ]
  }
 ],
 "metadata": {
  "kernelspec": {
   "display_name": "Python 3",
   "language": "python",
   "name": "python3"
  },
  "language_info": {
   "codemirror_mode": {
    "name": "ipython",
    "version": 3
   },
   "file_extension": ".py",
   "mimetype": "text/x-python",
   "name": "python",
   "nbconvert_exporter": "python",
   "pygments_lexer": "ipython3",
   "version": "3.10.4"
  }
 },
 "nbformat": 4,
 "nbformat_minor": 2
}
