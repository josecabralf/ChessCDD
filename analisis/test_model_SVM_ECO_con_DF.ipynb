{
 "cells": [
  {
   "cell_type": "code",
   "execution_count": 1,
   "metadata": {},
   "outputs": [],
   "source": [
    "import pickle\n",
    "import pandas as pd\n",
    "from sklearn.model_selection import train_test_split\n",
    "\n",
    "with open('./svm/svm_classifier.pkl', 'rb') as model_file:\n",
    "    classifier = pickle.load(model_file)\n",
    "    \n",
    "df = pd.read_csv('../../Data/chess_numeric.csv')\n",
    "\n",
    "value_counts = df['eco'].value_counts()\n",
    "ecos_comunes = value_counts[value_counts > 100].index\n",
    "filt = df['eco'].isin(ecos_comunes)\n",
    "df = df.loc[filt]\n",
    "\n",
    "X = df.loc[:, [\"white_elo\", \"black_elo\", \"eco\"]]\n",
    "y = df['result']\n",
    "\n",
    "y_pred = classifier.predict(X)"
   ]
  }
 ],
 "metadata": {
  "kernelspec": {
   "display_name": "Python 3",
   "language": "python",
   "name": "python3"
  },
  "language_info": {
   "codemirror_mode": {
    "name": "ipython",
    "version": 3
   },
   "file_extension": ".py",
   "mimetype": "text/x-python",
   "name": "python",
   "nbconvert_exporter": "python",
   "pygments_lexer": "ipython3",
   "version": "3.10.4"
  }
 },
 "nbformat": 4,
 "nbformat_minor": 2
}
