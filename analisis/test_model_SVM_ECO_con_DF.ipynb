{
 "cells": [
  {
   "cell_type": "code",
   "execution_count": 6,
   "metadata": {},
   "outputs": [],
   "source": [
    "import pickle\n",
    "import pandas as pd\n",
    "from sklearn.model_selection import train_test_split\n",
    "from sklearn.preprocessing import StandardScaler\n",
    "\n",
    "with open('./svm/standard_scaler.pkl', 'rb') as model_file:\n",
    "    sc = pickle.load(model_file)\n",
    "    \n",
    "with open('./svm/svm_classifier.pkl', 'rb') as model_file:\n",
    "    classifier = pickle.load(model_file)\n",
    "    \n",
    "df = pd.read_csv('../../Data/chess_numeric.csv')\n",
    "\n",
    "value_counts = df['eco'].value_counts()\n",
    "ecos_comunes = value_counts[value_counts > 100].index\n",
    "filt = df['eco'].isin(ecos_comunes)\n",
    "df = df.loc[filt]\n",
    "\n",
    "X = df.loc[:, [\"white_elo\", \"black_elo\", \"eco\"]]\n",
    "y = df['result']\n",
    "\n",
    "X = sc.transform(X)\n",
    "y_pred = classifier.predict(X)"
   ]
  },
  {
   "cell_type": "code",
   "execution_count": null,
   "metadata": {},
   "outputs": [],
   "source": [
    "# Dividir el conjunto de prueba en subconjuntos según el nivel de ELO\n",
    "from matplotlib import pyplot as plt\n",
    "\n",
    "elo_ranges = [i + 200 for i in range(300, 3000, 200)]\n",
    "elo_labels = [f'{elo}-{elo+200}' for elo in elo_ranges]\n",
    "\n",
    "for i in range(len(elo_ranges) - 1):\n",
    "    elo_min, elo_max = elo_ranges[i], elo_ranges[i + 1]\n",
    "    filt = (X[\"white_elo\"]>= elo_min) & (X[\"white_elo\"]<elo_max)\n",
    "    X_elo = X.loc[filt]\n",
    "    X_elo = X_elo[X_elo['y_pred'] == 1]['eco'].value_counts().head(10)\n",
    "    X_elo.plot(kind='bar', figsize=(10, 6))\n",
    "    plt.title(f\"Top 10 Aperturas ECO con Mayor Probabilidad de Victoria para Blanco con {elo_labels[i]} ELO\")\n",
    "    plt.xlabel(\"Apertura ECO\")\n",
    "    plt.ylabel(\"Número de Victorias\")\n",
    "    plt.show()\n",
    "\n",
    "    "
   ]
  },
  {
   "cell_type": "code",
   "execution_count": null,
   "metadata": {},
   "outputs": [],
   "source": [
    "# Dividir el conjunto de prueba en subconjuntos según el nivel de ELO\n",
    "elo_ranges = [i + 200 for i in range(300, 3000, 200)]\n",
    "elo_labels = [f'{elo}-{elo+200}' for elo in elo_ranges]\n",
    "\n",
    "for i in range(len(elo_ranges) - 1):\n",
    "  try:\n",
    "    elo_min, elo_max = elo_ranges[i], elo_ranges[i + 1]\n",
    "    filt = (X[\"black_elo\"]>= elo_min) & (X[\"black_elo\"]<elo_max)\n",
    "    X_elo = X.loc[filt]\n",
    "    X_elo = X_elo[X_elo['y_pred'] == -1]['eco'].value_counts().head(10)\n",
    "    X_elo.plot(kind='bar', figsize=(10, 6))\n",
    "    plt.title(f\"Top 10 Aperturas ECO con Mayor Probabilidad de Victoria para Negro con {elo_labels[i]} ELO\")\n",
    "    plt.xlabel(\"Apertura ECO\")\n",
    "    plt.ylabel(\"Número de Victorias\")\n",
    "    plt.show()\n",
    "  except: continue"
   ]
  }
 ],
 "metadata": {
  "kernelspec": {
   "display_name": "Python 3",
   "language": "python",
   "name": "python3"
  },
  "language_info": {
   "codemirror_mode": {
    "name": "ipython",
    "version": 3
   },
   "file_extension": ".py",
   "mimetype": "text/x-python",
   "name": "python",
   "nbconvert_exporter": "python",
   "pygments_lexer": "ipython3",
   "version": "3.10.4"
  }
 },
 "nbformat": 4,
 "nbformat_minor": 2
}
