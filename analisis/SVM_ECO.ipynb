{
 "cells": [
  {
   "cell_type": "code",
   "execution_count": 1,
   "metadata": {},
   "outputs": [],
   "source": [
    "import pandas as pd\n",
    "from sklearn.model_selection import train_test_split\n",
    "from sklearn.preprocessing import StandardScaler\n",
    "\n",
    "df = pd.read_csv('../../Data/chess_numeric.csv')\n",
    "\n",
    "value_counts = df['eco'].value_counts()\n",
    "ecos_comunes = value_counts[value_counts > 100].index\n",
    "filt = df['eco'].isin(ecos_comunes)\n",
    "df = df.loc[filt]\n",
    "\n",
    "X = df.loc[:, [\"white_elo\", \"black_elo\", \"eco\"]]\n",
    "y = df['result']\n",
    "\n",
    "X_train, X_test, y_train, y_test = train_test_split(X, y, test_size=0.15, random_state=42)\n",
    "\n",
    "sc = StandardScaler()\n",
    "X_train = sc.fit_transform(X_train)\n",
    "X_test = sc.transform(X_test)"
   ]
  },
  {
   "cell_type": "code",
   "execution_count": 3,
   "metadata": {},
   "outputs": [],
   "source": [
    "\"\"\"from sklearn.svm import SVC\n",
    "from sklearn.metrics import confusion_matrix, accuracy_score\n",
    "\n",
    "classifier = SVC(kernel = 'rbf', random_state = 0, cache_size=2000, verbose=True)\n",
    "classifier.fit(X_train, y_train)\n",
    "\n",
    "y_pred = classifier.predict(X_test)\n",
    "cm = confusion_matrix(y_test, y_pred)\n",
    "print(cm)\n",
    "accuracy_score(y_test,y_pred)\"\"\""
   ]
  },
  {
   "cell_type": "code",
   "execution_count": 11,
   "metadata": {},
   "outputs": [],
   "source": [
    "\"\"\"\n",
    "import pickle\n",
    "\n",
    "# Save the trained model and StandardScaler to disk\n",
    "with open('./svm/svm_classifier.pkl', 'wb') as model_file:\n",
    "    pickle.dump(classifier, model_file)\n",
    "\n",
    "# Later, when you want to use the model without re-running the training code:\n",
    "# Load the trained model and StandardScaler from disk\"\"\""
   ]
  },
  {
   "cell_type": "code",
   "execution_count": 3,
   "metadata": {},
   "outputs": [],
   "source": [
    "from sklearn.metrics import recall_score, f1_score\n",
    "import pickle\n",
    "from sklearn.metrics import confusion_matrix\n",
    "\n",
    "with open('./svm/svm_classifier.pkl', 'rb') as model_file:\n",
    "    classifier = pickle.load(model_file)\n",
    "\n",
    "# Supongamos que ya tienes tus predicciones y etiquetas reales\n",
    "\n",
    "\"\"\" y_pred = classifier.predict(X_test)\n",
    "with open('./white_black_eco/svm_y_pred.pkl', 'wb') as f:\n",
    "    pickle.dump(y_pred, f)\"\"\"\n",
    "with open('./svm/svm_y_pred.pkl', 'rb') as model_file:\n",
    "    y_pred = pickle.load(model_file)"
   ]
  },
  {
   "cell_type": "code",
   "execution_count": null,
   "metadata": {},
   "outputs": [],
   "source": [
    "\"\"\"# Calcula la sensibilidad (recall)\n",
    "from sklearn.metrics import precision_score, recall_score, f1_score\n",
    "recall = recall_score(y_test.to_list(), y_pred)\n",
    "print(f'Recall (Sensibilidad): {recall}')\n",
    "# Calcula la especificidad\n",
    "# Especifidad = TN / (TN + FP)\n",
    "tn, fp, fn, tp = confusion_matrix(y_test, y_pred).ravel()\n",
    "specificity = tn / (tn + fp)\n",
    "print(f'Especificidad: {specificity}')\n",
    "\n",
    "# Calcula el F1-score\n",
    "f1 = f1_score(y_test, y_pred)\n",
    "print(f'F1-Score: {f1}')\n",
    "\n",
    "from sklearn.metrics import roc_auc_score\n",
    "y_scores = classifier.decision_function(X_test)\n",
    "roc_auc = roc_auc_score(y_test, y_scores)\n",
    "print(f'AUC-ROC: {roc_auc}')\n",
    "\"\"\""
   ]
  }
 ],
 "metadata": {
  "kernelspec": {
   "display_name": "Python 3",
   "language": "python",
   "name": "python3"
  },
  "language_info": {
   "codemirror_mode": {
    "name": "ipython",
    "version": 3
   },
   "file_extension": ".py",
   "mimetype": "text/x-python",
   "name": "python",
   "nbconvert_exporter": "python",
   "pygments_lexer": "ipython3",
   "version": "3.10.4"
  }
 },
 "nbformat": 4,
 "nbformat_minor": 2
}
